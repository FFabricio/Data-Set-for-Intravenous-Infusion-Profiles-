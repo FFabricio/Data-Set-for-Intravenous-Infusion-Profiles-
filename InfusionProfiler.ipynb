{
  "nbformat": 4,
  "nbformat_minor": 0,
  "metadata": {
    "colab": {
      "name": "InfusionProfiler.ipynb",
      "provenance": [],
      "collapsed_sections": [],
      "mount_file_id": "1ZOrrrMci4asHoEICX5nMgMmLJn8TAw5j",
      "authorship_tag": "ABX9TyNppE1xg4B/U/xeXLgCBneo",
      "include_colab_link": true
    },
    "kernelspec": {
      "name": "python3",
      "display_name": "Python 3"
    },
    "accelerator": "GPU"
  },
  "cells": [
    {
      "cell_type": "markdown",
      "metadata": {
        "id": "view-in-github",
        "colab_type": "text"
      },
      "source": [
        "<a href=\"https://colab.research.google.com/github/FFabricio/Data-Set-for-Intravenous-Infusion-Profiles-/blob/master/InfusionProfiler.ipynb\" target=\"_parent\"><img src=\"https://colab.research.google.com/assets/colab-badge.svg\" alt=\"Open In Colab\"/></a>"
      ]
    },
    {
      "cell_type": "markdown",
      "metadata": {
        "id": "vqQLiRw9ciJb",
        "colab_type": "text"
      },
      "source": [
        "**Import** from libraries"
      ]
    },
    {
      "cell_type": "code",
      "metadata": {
        "id": "Mn0_OlwwktSZ",
        "colab_type": "code",
        "colab": {}
      },
      "source": [
        "import math\n",
        "import numpy as np\n",
        "import pandas as pd\n",
        "import os\n",
        "import pickle \n",
        "import IPython\n",
        "from google.colab import files"
      ],
      "execution_count": 0,
      "outputs": []
    },
    {
      "cell_type": "markdown",
      "metadata": {
        "id": "O4ruSrL_cdoy",
        "colab_type": "text"
      },
      "source": [
        "\n",
        "### **Loads machine learning models**\n",
        "\n",
        "The models are available on the drive link.\n",
        "Please upload to your google drive and change the file path.\n",
        "\n",
        "https://drive.google.com/drive/folders/1sWwWhyRSimbMTZTDDGNiLvX-iSP1LfX6?usp=sharing\n",
        "\n",
        "\n"
      ]
    },
    {
      "cell_type": "code",
      "metadata": {
        "id": "xcPgD4J-Y-8i",
        "colab_type": "code",
        "outputId": "421880b2-8254-41a1-dc87-41d67581f987",
        "colab": {
          "base_uri": "https://localhost:8080/",
          "height": 207
        }
      },
      "source": [
        "Bi_model = pickle.load(open('/content/drive/My Drive/Colab Notebooks/Bi_model.sav', 'rb'))\n",
        "Gra_model = pickle.load(open('/content/drive/My Drive/Colab Notebooks/Gra_model.sav', 'rb'))"
      ],
      "execution_count": 0,
      "outputs": [
        {
          "output_type": "stream",
          "text": [
            "/usr/local/lib/python3.6/dist-packages/sklearn/base.py:318: UserWarning: Trying to unpickle estimator PolynomialFeatures from version 0.22.1 when using version 0.22.2.post1. This might lead to breaking code or invalid results. Use at your own risk.\n",
            "  UserWarning)\n",
            "/usr/local/lib/python3.6/dist-packages/sklearn/base.py:318: UserWarning: Trying to unpickle estimator Ridge from version 0.22.1 when using version 0.22.2.post1. This might lead to breaking code or invalid results. Use at your own risk.\n",
            "  UserWarning)\n",
            "/usr/local/lib/python3.6/dist-packages/sklearn/base.py:318: UserWarning: Trying to unpickle estimator Pipeline from version 0.22.1 when using version 0.22.2.post1. This might lead to breaking code or invalid results. Use at your own risk.\n",
            "  UserWarning)\n",
            "/usr/local/lib/python3.6/dist-packages/sklearn/base.py:318: UserWarning: Trying to unpickle estimator DecisionTreeRegressor from version 0.22.1 when using version 0.22.2.post1. This might lead to breaking code or invalid results. Use at your own risk.\n",
            "  UserWarning)\n",
            "/usr/local/lib/python3.6/dist-packages/sklearn/base.py:318: UserWarning: Trying to unpickle estimator AdaBoostRegressor from version 0.22.1 when using version 0.22.2.post1. This might lead to breaking code or invalid results. Use at your own risk.\n",
            "  UserWarning)\n"
          ],
          "name": "stderr"
        }
      ]
    },
    {
      "cell_type": "markdown",
      "metadata": {
        "id": "MSinei_NdoIu",
        "colab_type": "text"
      },
      "source": [
        "**Functions** that add real features to simulated data (noise)\n",
        "\n"
      ]
    },
    {
      "cell_type": "code",
      "metadata": {
        "id": "bfPlO5ofdniO",
        "colab_type": "code",
        "colab": {}
      },
      "source": [
        "def ruido_ml(sinal,tam):    \n",
        "    vout_sgr=[]\n",
        "    noise=[]\n",
        "    sigpower=[]\n",
        "    regsnr=54\n",
        "    sigpower=sum([math.pow(abs(sinal[i]),2) for i in range(tam)])\n",
        "    sigpower=sigpower/tam\n",
        "    noisepower=sigpower/(math.pow(10,regsnr/10))\n",
        "    noise=math.sqrt(noisepower)*(np.random.uniform(-1,1,size=tam))\n",
        "    vout_sgr=[ noise[i]+sinal[i] for i in range(tam)]\n",
        "    return vout_sgr    "
      ],
      "execution_count": 0,
      "outputs": []
    },
    {
      "cell_type": "markdown",
      "metadata": {
        "id": "X22TVEYUedcs",
        "colab_type": "text"
      },
      "source": [
        "**Function** manages simulation"
      ]
    },
    {
      "cell_type": "code",
      "metadata": {
        "id": "RGGW7pXgqB2k",
        "colab_type": "code",
        "colab": {}
      },
      "source": [
        "def simula(escoa,janela,repeti):\n",
        "  dado_bi= open('/content/DataSetIP.csv','w')\n",
        "  dado_gra= open('/content/DataSetGra.csv','w')\n",
        "  ensaio=1\n",
        "  volume=125\n",
        "  t_vol=1\n",
        "  passo=escoa\n",
        "  escoa=22\n",
        "  while escoa<=999.9:\n",
        "      if volume == 125:\n",
        "          limite_tempo=.6\n",
        "      if volume == 250:\n",
        "          limite_tempo=.8\n",
        "      if volume == 500:\n",
        "          limite_tempo=.9\n",
        "      if volume == 1000:\n",
        "          limite_tempo=1\n",
        "      if volume/escoa < limite_tempo:\n",
        "          t_vol=t_vol+1\n",
        "          if t_vol==2:\n",
        "              volume=250\n",
        "              escoa=72\n",
        "          if passo<5: \n",
        "              passo=5                \n",
        "          if t_vol==3:\n",
        "              escoa=33\n",
        "              volume=500\n",
        "          if passo<15:\n",
        "              passo=15\n",
        "          if t_vol==4:\n",
        "              escoa=64\n",
        "              volume=1000 \n",
        "          if passo<30:\n",
        "              passo=30 \n",
        "      for jk in range(repeti):\n",
        "          volume_t=0\n",
        "          while (volume_t<(volume*0.95) or volume_t>(volume)):   \n",
        "              tol_v=np.float((np.random.randint(-25,25,size=(1)))/1000)\n",
        "              tol_e=np.float((np.random.randint(-5,5,size=(1)))/1000)\n",
        "              tempo=((1+tol_v)*volume)/((1+tol_e)*escoa)\n",
        "              volume_t=round((tempo)*escoa*(1+tol_e),1)\n",
        "          tempo=int(tempo*3600)\n",
        "          escoa_t=round(escoa*(1+tol_e),1)\n",
        "          data_t=[]\n",
        "          data_e=[]\n",
        "          data_v=[]\n",
        "          c=[[data_t.append(i),data_v.append(volume_t), data_e.append(escoa_t)] for i in range(tempo)]              \n",
        "          data=[]    \n",
        "          data=pd.DataFrame(data_e,columns=['Flow'])    \n",
        "          data['Volume']=pd.DataFrame(data_v)    \n",
        "          data['Time']=pd.DataFrame(data_t) \n",
        "          dataGra0=Gra_model.predict(data[['Flow','Volume','Time']])\n",
        "          dataGra=ruido_ml(dataGra0,len(dataGra0))\n",
        "          dataBi0=Bi_model.predict(data[['Flow','Volume','Time']])   \n",
        "          dataBi=ruido_ml(dataBi0,len(dataBi0))\n",
        "          if ensaio==1:\n",
        "            for i in range(0, janela):\n",
        "              dado_gra.write('TimeWin'+str(i)+',')\n",
        "              dado_bi.write('TimeWin'+str(i)+',')\n",
        "            dado_gra.write('DrugDelivered,DrugReservoirs,FlowRate,Test\\n')\n",
        "            dado_bi.write('DrugDelivered,DrugReservoirs,FlowRate,Test\\n')\n",
        "          d1=[]\n",
        "          d3=[]\n",
        "          j=0\n",
        "          tam=len(dataGra)\n",
        "          for i in range(0,tam):\n",
        "              data_reg=np.float(dataGra[i])\n",
        "              d1.append(\"%0.6f\"%data_reg)\n",
        "              data_reg=np.float(dataBi[i])\n",
        "              d3.append(\"%0.6f\"%data_reg)\n",
        "              if len(d1)==janela:\n",
        "                  d1 = \",\".join(d1)\n",
        "                  dado_gra.write(d1+','+str(volume_t)+','+str(volume)+','+str(escoa_t)+','+str(ensaio)+'\\n')\n",
        "                  d3 = \",\".join(d3)\n",
        "                  dado_bi.write(d3+','+str(volume_t)+','+str(volume)+','+str(escoa_t)+','+str(ensaio)+'\\n')                  \n",
        "                  j=0\n",
        "                  d1=[]\n",
        "                  d3=[]\n",
        "              j=j+1            \n",
        "          ensaio=ensaio+1\n",
        "          del dataGra0\n",
        "          del dataGra\n",
        "          del dataBi0\n",
        "          del dataBi\n",
        "      escoa=escoa+passo \n",
        "  files.download('DataSetGra.csv')\n",
        "  files.download('DataSetIP.csv')\n",
        "  dado_gra.close() \n",
        "  dado_bi.close()     \n",
        "  return "
      ],
      "execution_count": 0,
      "outputs": []
    },
    {
      "cell_type": "markdown",
      "metadata": {
        "id": "XglNaA86fPBu",
        "colab_type": "text"
      },
      "source": [
        "Data entry for the simulation\n",
        "## **In case of errors, please consider the local use of the notebook!!!**"
      ]
    },
    {
      "cell_type": "code",
      "metadata": {
        "id": "dUrqBT7_fOOX",
        "colab_type": "code",
        "outputId": "d4a3d8ba-9956-4153-da0d-768638cf880a",
        "colab": {
          "base_uri": "https://localhost:8080/",
          "height": 187
        }
      },
      "source": [
        "flag=1\n",
        "while flag==1:\n",
        "  flag=0\n",
        "  print('Enter Increment Interval between [1.0 to 100.0] mL/h')\n",
        "  try:\n",
        "    escoa=float(input())\n",
        "  except ValueError:\n",
        "    flag=1\n",
        "    print('Enter numbers only')\n",
        "  if flag == 0:  \n",
        "    if escoa>100:\n",
        "      print('Maximum flow limited to 100 mL/h')\n",
        "      flag=1\n",
        "    if escoa<1:\n",
        "      print('Minimum flow limited to 1 mL/h')\n",
        "      flag=1\n",
        "flag=1\n",
        "while flag==1:\n",
        "  flag=0\n",
        "  print('\\nEnter Time Window Size [1 to 360] Seconds')\n",
        "  try:\n",
        "    jan=int(input())\n",
        "  except ValueError:\n",
        "    flag=1\n",
        "    print('Enter numbers only')\n",
        "  if flag==0:  \n",
        "    if jan>360:\n",
        "      print('Maximum Time Window Size limited to 360 Seconds')\n",
        "      flag=1\n",
        "    if jan<1:\n",
        "      print('Minimum Time Window Size limited to 1 Seconds')\n",
        "      flag=1\n",
        "flag=1\n",
        "while flag==1:\n",
        "  flag=0\n",
        "  print('\\nEnter the Number of Simulation Repeats [1 to 50]')\n",
        "  try:\n",
        "    repeti=int(input())\n",
        "  except ValueError:\n",
        "    flag=1\n",
        "    print('Enter numbers only')\n",
        "  if flag==0:  \n",
        "    if repeti>50:\n",
        "      print('Maximum the Number of Simulation Repeats is 50')\n",
        "      flag=1\n",
        "    if repeti<1:\n",
        "      print('Minimum the Number of Simulation Repeats is 1')\n",
        "      flag=1\n",
        "print('Running the Simulation ...')\n",
        "simula(int(escoa),int(jan),int(repeti))\n",
        "print('End of Simulation.')"
      ],
      "execution_count": 0,
      "outputs": [
        {
          "output_type": "stream",
          "text": [
            "Enter Increment Interval between [1.0 to 100.0] mL/h\n",
            "10\n",
            "\n",
            "Enter Time Window Size [1 to 360] Seconds\n",
            "60\n",
            "\n",
            "Enter the Number of Simulation Repeats [1 to 50]\n",
            "1\n",
            "Running the Simulation ...\n",
            "End of Simulation.\n"
          ],
          "name": "stdout"
        }
      ]
    }
  ]
}